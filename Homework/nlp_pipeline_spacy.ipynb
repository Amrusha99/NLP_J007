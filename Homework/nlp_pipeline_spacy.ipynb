{
  "nbformat": 4,
  "nbformat_minor": 0,
  "metadata": {
    "colab": {
      "name": "nlp_pipeline_spacy.ipynb",
      "provenance": [],
      "collapsed_sections": [],
      "include_colab_link": true
    },
    "kernelspec": {
      "name": "python3",
      "display_name": "Python 3"
    }
  },
  "cells": [
    {
      "cell_type": "markdown",
      "metadata": {
        "id": "view-in-github",
        "colab_type": "text"
      },
      "source": [
        "<a href=\"https://colab.research.google.com/github/Amrusha99/NLP_J007/blob/master/nlp_pipeline_spacy.ipynb\" target=\"_parent\"><img src=\"https://colab.research.google.com/assets/colab-badge.svg\" alt=\"Open In Colab\"/></a>"
      ]
    },
    {
      "cell_type": "code",
      "metadata": {
        "id": "5pubgA40Fgio",
        "colab_type": "code",
        "colab": {}
      },
      "source": [
        "import spacy\n",
        "import re\n",
        "import pandas as pd"
      ],
      "execution_count": 0,
      "outputs": []
    },
    {
      "cell_type": "code",
      "metadata": {
        "id": "CnAJuQHOGLOl",
        "colab_type": "code",
        "colab": {}
      },
      "source": [
        "df=pd.read_json(\"http://snap.stanford.edu/data/amazon/productGraph/categoryFiles/reviews_Office_Products_5.json.gz\", lines=True)"
      ],
      "execution_count": 0,
      "outputs": []
    },
    {
      "cell_type": "code",
      "metadata": {
        "id": "_tDV9mOQFqXe",
        "colab_type": "code",
        "colab": {}
      },
      "source": [
        "#Setting up spacy\n",
        "spacy_nlp = spacy.load('en_core_web_sm')"
      ],
      "execution_count": 0,
      "outputs": []
    },
    {
      "cell_type": "code",
      "metadata": {
        "id": "l8r4OoHKFvTY",
        "colab_type": "code",
        "colab": {}
      },
      "source": [
        "#Tokenization\n",
        "def tokenizer(str):\n",
        "  tokens=dict()\n",
        "  #txt = re.sub(r'[^\\w\\s]','',str)\n",
        "  doc = spacy_nlp(str)\n",
        "  tokens[\"Tokens\"] = [token.text for token in doc]\n",
        "  return tokens"
      ],
      "execution_count": 0,
      "outputs": []
    },
    {
      "cell_type": "code",
      "metadata": {
        "id": "11HV0VNo-noo",
        "colab_type": "code",
        "colab": {
          "base_uri": "https://localhost:8080/",
          "height": 1000
        },
        "outputId": "731c745f-d7ba-4e78-c8fd-0bf2150e6cf8"
      },
      "source": [
        "tokenizer(df.reviewText[10])"
      ],
      "execution_count": 53,
      "outputs": [
        {
          "output_type": "execute_result",
          "data": {
            "text/plain": [
              "{'Tokens': ['I',\n",
              "  \"'ve\",\n",
              "  'had',\n",
              "  'mine',\n",
              "  'for',\n",
              "  '4',\n",
              "  'years',\n",
              "  'now',\n",
              "  'and',\n",
              "  'use',\n",
              "  'it',\n",
              "  'almost',\n",
              "  'daily',\n",
              "  '.',\n",
              "  ' ',\n",
              "  'Never',\n",
              "  'had',\n",
              "  'any',\n",
              "  'problems',\n",
              "  'with',\n",
              "  'it',\n",
              "  'even',\n",
              "  'after',\n",
              "  'a',\n",
              "  'few',\n",
              "  'drops',\n",
              "  'to',\n",
              "  'the',\n",
              "  'carpeted',\n",
              "  'floor',\n",
              "  '.',\n",
              "  ' ',\n",
              "  'Large',\n",
              "  'easy',\n",
              "  'to',\n",
              "  'read',\n",
              "  'keys',\n",
              "  'with',\n",
              "  'a',\n",
              "  'nice',\n",
              "  'feel',\n",
              "  ',',\n",
              "  'not',\n",
              "  'too',\n",
              "  'hard',\n",
              "  '-',\n",
              "  'not',\n",
              "  'too',\n",
              "  'soft',\n",
              "  '.',\n",
              "  ' ',\n",
              "  'Large',\n",
              "  'easy',\n",
              "  'to',\n",
              "  'read',\n",
              "  'display',\n",
              "  '.',\n",
              "  ' ',\n",
              "  'All',\n",
              "  'in',\n",
              "  'all',\n",
              "  ',',\n",
              "  'good',\n",
              "  'calculator',\n",
              "  'for',\n",
              "  'everyday',\n",
              "  'basic',\n",
              "  'functions',\n",
              "  '.']}"
            ]
          },
          "metadata": {
            "tags": []
          },
          "execution_count": 53
        }
      ]
    },
    {
      "cell_type": "code",
      "metadata": {
        "id": "UW29dPthGeXZ",
        "colab_type": "code",
        "colab": {}
      },
      "source": [
        "df[\"tokens\"]=df[\"reviewText\"].apply(tokenizer)"
      ],
      "execution_count": 0,
      "outputs": []
    },
    {
      "cell_type": "code",
      "metadata": {
        "id": "mbUxf0XH36QX",
        "colab_type": "code",
        "colab": {}
      },
      "source": [
        "#Parts of Speech Tagger\n",
        "def pos_tagger(str):\n",
        "  postag=dict()\n",
        "  pos_words=[]\n",
        "  doc=spacy_nlp(str)\n",
        "  for word in doc:\n",
        "    pos_words.append(word.pos_)\n",
        "    postag[\"POS_tags\"]=[pos_words]\n",
        "  return postag"
      ],
      "execution_count": 0,
      "outputs": []
    },
    {
      "cell_type": "code",
      "metadata": {
        "id": "uJSOX03t-MG7",
        "colab_type": "code",
        "colab": {
          "base_uri": "https://localhost:8080/",
          "height": 1000
        },
        "outputId": "024c0d5b-687f-4c32-ccc1-0576d0001879"
      },
      "source": [
        "pos_tagger(df.reviewText[10])"
      ],
      "execution_count": 57,
      "outputs": [
        {
          "output_type": "execute_result",
          "data": {
            "text/plain": [
              "{'POS_tags': [['PRON',\n",
              "   'VERB',\n",
              "   'VERB',\n",
              "   'PRON',\n",
              "   'ADP',\n",
              "   'NUM',\n",
              "   'NOUN',\n",
              "   'ADV',\n",
              "   'CCONJ',\n",
              "   'VERB',\n",
              "   'PRON',\n",
              "   'ADV',\n",
              "   'ADV',\n",
              "   'PUNCT',\n",
              "   'SPACE',\n",
              "   'ADV',\n",
              "   'VERB',\n",
              "   'DET',\n",
              "   'NOUN',\n",
              "   'ADP',\n",
              "   'PRON',\n",
              "   'ADV',\n",
              "   'ADP',\n",
              "   'DET',\n",
              "   'ADJ',\n",
              "   'NOUN',\n",
              "   'ADP',\n",
              "   'DET',\n",
              "   'VERB',\n",
              "   'NOUN',\n",
              "   'PUNCT',\n",
              "   'SPACE',\n",
              "   'ADJ',\n",
              "   'ADV',\n",
              "   'PART',\n",
              "   'VERB',\n",
              "   'NOUN',\n",
              "   'ADP',\n",
              "   'DET',\n",
              "   'ADJ',\n",
              "   'NOUN',\n",
              "   'PUNCT',\n",
              "   'ADV',\n",
              "   'ADV',\n",
              "   'ADJ',\n",
              "   'PUNCT',\n",
              "   'ADV',\n",
              "   'ADV',\n",
              "   'ADJ',\n",
              "   'PUNCT',\n",
              "   'SPACE',\n",
              "   'ADJ',\n",
              "   'ADV',\n",
              "   'PART',\n",
              "   'VERB',\n",
              "   'NOUN',\n",
              "   'PUNCT',\n",
              "   'SPACE',\n",
              "   'ADV',\n",
              "   'ADP',\n",
              "   'DET',\n",
              "   'PUNCT',\n",
              "   'ADJ',\n",
              "   'NOUN',\n",
              "   'ADP',\n",
              "   'ADJ',\n",
              "   'ADJ',\n",
              "   'NOUN',\n",
              "   'PUNCT']]}"
            ]
          },
          "metadata": {
            "tags": []
          },
          "execution_count": 57
        }
      ]
    },
    {
      "cell_type": "code",
      "metadata": {
        "id": "XBPVRhocM_YF",
        "colab_type": "code",
        "colab": {}
      },
      "source": [
        "pos_tagger(s)\n",
        "df[\"reviewText_POS\"]=df[\"reviewText\"].apply(pos_tagger)"
      ],
      "execution_count": 0,
      "outputs": []
    },
    {
      "cell_type": "code",
      "metadata": {
        "id": "-Y0kpM5DB56W",
        "colab_type": "code",
        "colab": {}
      },
      "source": [
        "def lemmatizer(str):\n",
        "  lemma=dict()\n",
        "  doc = spacy_nlp(str)\n",
        "  lemma[\"Lemmatizers\"] = [token.lemma_ for token in doc]\n",
        "  return lemma"
      ],
      "execution_count": 0,
      "outputs": []
    },
    {
      "cell_type": "code",
      "metadata": {
        "id": "oySsGV2QCKVG",
        "colab_type": "code",
        "colab": {
          "base_uri": "https://localhost:8080/",
          "height": 1000
        },
        "outputId": "3216a3c6-1173-4182-bc62-bcd9c91f9119"
      },
      "source": [
        "lemmatizer(df.reviewText[10])"
      ],
      "execution_count": 60,
      "outputs": [
        {
          "output_type": "execute_result",
          "data": {
            "text/plain": [
              "{'Lemmatizers': ['-PRON-',\n",
              "  'have',\n",
              "  'have',\n",
              "  '-PRON-',\n",
              "  'for',\n",
              "  '4',\n",
              "  'year',\n",
              "  'now',\n",
              "  'and',\n",
              "  'use',\n",
              "  '-PRON-',\n",
              "  'almost',\n",
              "  'daily',\n",
              "  '.',\n",
              "  ' ',\n",
              "  'never',\n",
              "  'have',\n",
              "  'any',\n",
              "  'problem',\n",
              "  'with',\n",
              "  '-PRON-',\n",
              "  'even',\n",
              "  'after',\n",
              "  'a',\n",
              "  'few',\n",
              "  'drop',\n",
              "  'to',\n",
              "  'the',\n",
              "  'carpet',\n",
              "  'floor',\n",
              "  '.',\n",
              "  ' ',\n",
              "  'large',\n",
              "  'easy',\n",
              "  'to',\n",
              "  'read',\n",
              "  'key',\n",
              "  'with',\n",
              "  'a',\n",
              "  'nice',\n",
              "  'feel',\n",
              "  ',',\n",
              "  'not',\n",
              "  'too',\n",
              "  'hard',\n",
              "  '-',\n",
              "  'not',\n",
              "  'too',\n",
              "  'soft',\n",
              "  '.',\n",
              "  ' ',\n",
              "  'large',\n",
              "  'easy',\n",
              "  'to',\n",
              "  'read',\n",
              "  'display',\n",
              "  '.',\n",
              "  ' ',\n",
              "  'all',\n",
              "  'in',\n",
              "  'all',\n",
              "  ',',\n",
              "  'good',\n",
              "  'calculator',\n",
              "  'for',\n",
              "  'everyday',\n",
              "  'basic',\n",
              "  'function',\n",
              "  '.']}"
            ]
          },
          "metadata": {
            "tags": []
          },
          "execution_count": 60
        }
      ]
    },
    {
      "cell_type": "code",
      "metadata": {
        "id": "MsVRT4vfCUrf",
        "colab_type": "code",
        "colab": {}
      },
      "source": [
        "df[\"reviewText_lemmatizers\"]=df.reviewText.apply(lemmatizer)\n",
        "df.reviewText_lemmatizers"
      ],
      "execution_count": 0,
      "outputs": []
    },
    {
      "cell_type": "code",
      "metadata": {
        "id": "ykGx8jD1Cl-k",
        "colab_type": "code",
        "colab": {}
      },
      "source": [
        "#Dependency parser\n",
        "def dep_parser(str):\n",
        "  dparser=dict()\n",
        "  dep=[]\n",
        "  doc=spacy_nlp(str)\n",
        "  for word in doc:\n",
        "    dep.append(word.dep_)\n",
        "    dparser[\"Dependency\"]=[dep]\n",
        "  return dparser"
      ],
      "execution_count": 0,
      "outputs": []
    },
    {
      "cell_type": "code",
      "metadata": {
        "id": "boDIngPFHoHR",
        "colab_type": "code",
        "colab": {
          "base_uri": "https://localhost:8080/",
          "height": 1000
        },
        "outputId": "c3016453-5ffc-4dc0-9af5-7cfc34c5959c"
      },
      "source": [
        "dep_parser(df.reviewText[10])"
      ],
      "execution_count": 64,
      "outputs": [
        {
          "output_type": "execute_result",
          "data": {
            "text/plain": [
              "{'Dependency': [['nsubj',\n",
              "   'aux',\n",
              "   'ROOT',\n",
              "   'dobj',\n",
              "   'prep',\n",
              "   'nummod',\n",
              "   'pobj',\n",
              "   'advmod',\n",
              "   'cc',\n",
              "   'conj',\n",
              "   'dobj',\n",
              "   'advmod',\n",
              "   'advmod',\n",
              "   'punct',\n",
              "   '',\n",
              "   'neg',\n",
              "   'ROOT',\n",
              "   'det',\n",
              "   'dobj',\n",
              "   'prep',\n",
              "   'pobj',\n",
              "   'advmod',\n",
              "   'prep',\n",
              "   'quantmod',\n",
              "   'nummod',\n",
              "   'pobj',\n",
              "   'prep',\n",
              "   'det',\n",
              "   'amod',\n",
              "   'pobj',\n",
              "   'punct',\n",
              "   '',\n",
              "   'advmod',\n",
              "   'ROOT',\n",
              "   'aux',\n",
              "   'xcomp',\n",
              "   'dobj',\n",
              "   'prep',\n",
              "   'det',\n",
              "   'amod',\n",
              "   'pobj',\n",
              "   'punct',\n",
              "   'neg',\n",
              "   'advmod',\n",
              "   'advmod',\n",
              "   'punct',\n",
              "   'neg',\n",
              "   'advmod',\n",
              "   'amod',\n",
              "   'punct',\n",
              "   '',\n",
              "   'advmod',\n",
              "   'ROOT',\n",
              "   'aux',\n",
              "   'xcomp',\n",
              "   'dobj',\n",
              "   'punct',\n",
              "   '',\n",
              "   'advmod',\n",
              "   'advmod',\n",
              "   'advmod',\n",
              "   'punct',\n",
              "   'amod',\n",
              "   'ROOT',\n",
              "   'prep',\n",
              "   'amod',\n",
              "   'amod',\n",
              "   'pobj',\n",
              "   'punct']]}"
            ]
          },
          "metadata": {
            "tags": []
          },
          "execution_count": 64
        }
      ]
    },
    {
      "cell_type": "code",
      "metadata": {
        "id": "QqQc6exqHyUC",
        "colab_type": "code",
        "colab": {}
      },
      "source": [
        "df[\"reviewText_dep_parser\"]=df.reviewText.apply(dep_parser)"
      ],
      "execution_count": 0,
      "outputs": []
    },
    {
      "cell_type": "code",
      "metadata": {
        "id": "AVbQdtULIAsz",
        "colab_type": "code",
        "colab": {}
      },
      "source": [
        "#Finding nouns\n",
        "def find_noun(s):\n",
        "  nlp=spacy.load('en')\n",
        "  s=nlp(s)\n",
        "  nouns=dict()\n",
        "  n_list=[]\n",
        "\n",
        "  for n in s.noun_chunks:\n",
        "    n_list.append(n)\n",
        "    nouns[\"Nouns\"]=[n_list]\n",
        "  return nouns\n"
      ],
      "execution_count": 0,
      "outputs": []
    },
    {
      "cell_type": "code",
      "metadata": {
        "id": "rR-cMoQXKMwD",
        "colab_type": "code",
        "colab": {
          "base_uri": "https://localhost:8080/",
          "height": 248
        },
        "outputId": "a29d854c-6ca7-41a4-f746-71239093afe8"
      },
      "source": [
        "find_noun(df.reviewText[10])"
      ],
      "execution_count": 72,
      "outputs": [
        {
          "output_type": "execute_result",
          "data": {
            "text/plain": [
              "{'Nouns': [[I,\n",
              "   mine,\n",
              "   4 years,\n",
              "   it,\n",
              "   any problems,\n",
              "   it,\n",
              "   a few drops,\n",
              "   the carpeted floor,\n",
              "   keys,\n",
              "   a nice feel,\n",
              "   display,\n",
              "   All in all, good calculator,\n",
              "   everyday basic functions]]}"
            ]
          },
          "metadata": {
            "tags": []
          },
          "execution_count": 72
        }
      ]
    },
    {
      "cell_type": "code",
      "metadata": {
        "id": "DvT6uoPiKasV",
        "colab_type": "code",
        "colab": {}
      },
      "source": [
        "df[\"reviewText_Nouns\"]=df.reviewText.apply(find_noun)"
      ],
      "execution_count": 0,
      "outputs": []
    }
  ]
}
