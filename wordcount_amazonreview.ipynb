{
  "nbformat": 4,
  "nbformat_minor": 0,
  "metadata": {
    "colab": {
      "name": "wordcount_amazonreview.ipynb",
      "provenance": []
    },
    "kernelspec": {
      "name": "python3",
      "display_name": "Python 3"
    }
  },
  "cells": [
    {
      "cell_type": "code",
      "metadata": {
        "id": "oPgA0krahfIA",
        "colab_type": "code",
        "colab": {}
      },
      "source": [
        "import pandas as pd\n",
        "import numpy as np\n",
        "df=pd.read_json(\"http://snap.stanford.edu/data/amazon/productGraph/categoryFiles/reviews_Office_Products_5.json.gz\", lines=True)"
      ],
      "execution_count": 0,
      "outputs": []
    },
    {
      "cell_type": "code",
      "metadata": {
        "id": "dugdYorchjub",
        "colab_type": "code",
        "colab": {
          "base_uri": "https://localhost:8080/",
          "height": 285
        },
        "outputId": "f15f8afd-4534-4af7-8234-228d986e3a79"
      },
      "source": [
        "df.head()"
      ],
      "execution_count": 2,
      "outputs": [
        {
          "output_type": "execute_result",
          "data": {
            "text/html": [
              "<div>\n",
              "<style scoped>\n",
              "    .dataframe tbody tr th:only-of-type {\n",
              "        vertical-align: middle;\n",
              "    }\n",
              "\n",
              "    .dataframe tbody tr th {\n",
              "        vertical-align: top;\n",
              "    }\n",
              "\n",
              "    .dataframe thead th {\n",
              "        text-align: right;\n",
              "    }\n",
              "</style>\n",
              "<table border=\"1\" class=\"dataframe\">\n",
              "  <thead>\n",
              "    <tr style=\"text-align: right;\">\n",
              "      <th></th>\n",
              "      <th>reviewerID</th>\n",
              "      <th>asin</th>\n",
              "      <th>reviewerName</th>\n",
              "      <th>helpful</th>\n",
              "      <th>reviewText</th>\n",
              "      <th>overall</th>\n",
              "      <th>summary</th>\n",
              "      <th>unixReviewTime</th>\n",
              "      <th>reviewTime</th>\n",
              "    </tr>\n",
              "  </thead>\n",
              "  <tbody>\n",
              "    <tr>\n",
              "      <th>0</th>\n",
              "      <td>A32T2H8150OJLU</td>\n",
              "      <td>B00000JBLH</td>\n",
              "      <td>ARH</td>\n",
              "      <td>[3, 4]</td>\n",
              "      <td>I bought my first HP12C in about 1984 or so, a...</td>\n",
              "      <td>5</td>\n",
              "      <td>A solid performer, and long time friend</td>\n",
              "      <td>1094169600</td>\n",
              "      <td>09 3, 2004</td>\n",
              "    </tr>\n",
              "    <tr>\n",
              "      <th>1</th>\n",
              "      <td>A3MAFS04ZABRGO</td>\n",
              "      <td>B00000JBLH</td>\n",
              "      <td>Let it Be \"Alan\"</td>\n",
              "      <td>[7, 9]</td>\n",
              "      <td>WHY THIS BELATED REVIEW? I feel very obliged t...</td>\n",
              "      <td>5</td>\n",
              "      <td>Price of GOLD is up, so don't bury the golden ...</td>\n",
              "      <td>1197676800</td>\n",
              "      <td>12 15, 2007</td>\n",
              "    </tr>\n",
              "    <tr>\n",
              "      <th>2</th>\n",
              "      <td>A1F1A0QQP2XVH5</td>\n",
              "      <td>B00000JBLH</td>\n",
              "      <td>Mark B</td>\n",
              "      <td>[3, 3]</td>\n",
              "      <td>I have an HP 48GX that has been kicking for mo...</td>\n",
              "      <td>2</td>\n",
              "      <td>Good functionality, but not durable like old HPs</td>\n",
              "      <td>1293840000</td>\n",
              "      <td>01 1, 2011</td>\n",
              "    </tr>\n",
              "    <tr>\n",
              "      <th>3</th>\n",
              "      <td>A49R5DBXXQDE5</td>\n",
              "      <td>B00000JBLH</td>\n",
              "      <td>R. D Johnson</td>\n",
              "      <td>[7, 8]</td>\n",
              "      <td>I've started doing more finance stuff recently...</td>\n",
              "      <td>5</td>\n",
              "      <td>One of the last of an almost extinct species</td>\n",
              "      <td>1145404800</td>\n",
              "      <td>04 19, 2006</td>\n",
              "    </tr>\n",
              "    <tr>\n",
              "      <th>4</th>\n",
              "      <td>A2XRMQA6PJ5ZJ8</td>\n",
              "      <td>B00000JBLH</td>\n",
              "      <td>Roger J. Buffington</td>\n",
              "      <td>[0, 0]</td>\n",
              "      <td>For simple calculations and discounted cash fl...</td>\n",
              "      <td>5</td>\n",
              "      <td>Still the best</td>\n",
              "      <td>1375574400</td>\n",
              "      <td>08 4, 2013</td>\n",
              "    </tr>\n",
              "  </tbody>\n",
              "</table>\n",
              "</div>"
            ],
            "text/plain": [
              "       reviewerID        asin  ... unixReviewTime   reviewTime\n",
              "0  A32T2H8150OJLU  B00000JBLH  ...     1094169600   09 3, 2004\n",
              "1  A3MAFS04ZABRGO  B00000JBLH  ...     1197676800  12 15, 2007\n",
              "2  A1F1A0QQP2XVH5  B00000JBLH  ...     1293840000   01 1, 2011\n",
              "3   A49R5DBXXQDE5  B00000JBLH  ...     1145404800  04 19, 2006\n",
              "4  A2XRMQA6PJ5ZJ8  B00000JBLH  ...     1375574400   08 4, 2013\n",
              "\n",
              "[5 rows x 9 columns]"
            ]
          },
          "metadata": {
            "tags": []
          },
          "execution_count": 2
        }
      ]
    },
    {
      "cell_type": "code",
      "metadata": {
        "id": "7LoNMDMKhnWL",
        "colab_type": "code",
        "colab": {}
      },
      "source": [
        "def word_count(str):\n",
        "    count = {}\n",
        "    words = str.split()\n",
        "    for word in words:\n",
        "        if word in count:\n",
        "            count[word] += 1\n",
        "        else:\n",
        "            count[word] = 1\n",
        "    return count"
      ],
      "execution_count": 0,
      "outputs": []
    },
    {
      "cell_type": "code",
      "metadata": {
        "id": "UZlS14PQhuM6",
        "colab_type": "code",
        "colab": {}
      },
      "source": [
        "df[\"reviewText_count\"]=df.reviewText.apply(word_count)"
      ],
      "execution_count": 0,
      "outputs": []
    },
    {
      "cell_type": "code",
      "metadata": {
        "id": "0Oa0k_uGiKB1",
        "colab_type": "code",
        "colab": {}
      },
      "source": [
        "df[\"summary_count\"]=df.summary.apply(word_count)"
      ],
      "execution_count": 0,
      "outputs": []
    },
    {
      "cell_type": "code",
      "metadata": {
        "id": "dBH0HVeWiWoU",
        "colab_type": "code",
        "colab": {}
      },
      "source": [
        "wordcount_dt=pd.concat([df[\"reviewText_count\"],df[\"summary_count\"]],axis=1)"
      ],
      "execution_count": 0,
      "outputs": []
    },
    {
      "cell_type": "code",
      "metadata": {
        "id": "H6wfUPo8iisI",
        "colab_type": "code",
        "colab": {
          "base_uri": "https://localhost:8080/",
          "height": 200
        },
        "outputId": "70c011c9-1b6d-416b-8942-3e3a00ec6089"
      },
      "source": [
        "wordcount_dt.head()"
      ],
      "execution_count": 9,
      "outputs": [
        {
          "output_type": "execute_result",
          "data": {
            "text/html": [
              "<div>\n",
              "<style scoped>\n",
              "    .dataframe tbody tr th:only-of-type {\n",
              "        vertical-align: middle;\n",
              "    }\n",
              "\n",
              "    .dataframe tbody tr th {\n",
              "        vertical-align: top;\n",
              "    }\n",
              "\n",
              "    .dataframe thead th {\n",
              "        text-align: right;\n",
              "    }\n",
              "</style>\n",
              "<table border=\"1\" class=\"dataframe\">\n",
              "  <thead>\n",
              "    <tr style=\"text-align: right;\">\n",
              "      <th></th>\n",
              "      <th>reviewText_count</th>\n",
              "      <th>summary_count</th>\n",
              "    </tr>\n",
              "  </thead>\n",
              "  <tbody>\n",
              "    <tr>\n",
              "      <th>0</th>\n",
              "      <td>{'I': 7, 'bought': 1, 'my': 4, 'first': 1, 'HP...</td>\n",
              "      <td>{'A': 1, 'solid': 1, 'performer,': 1, 'and': 1...</td>\n",
              "    </tr>\n",
              "    <tr>\n",
              "      <th>1</th>\n",
              "      <td>{'WHY': 1, 'THIS': 2, 'BELATED': 1, 'REVIEW?':...</td>\n",
              "      <td>{'Price': 1, 'of': 1, 'GOLD': 1, 'is': 1, 'up,...</td>\n",
              "    </tr>\n",
              "    <tr>\n",
              "      <th>2</th>\n",
              "      <td>{'I': 2, 'have': 2, 'an': 2, 'HP': 3, '48GX': ...</td>\n",
              "      <td>{'Good': 1, 'functionality,': 1, 'but': 1, 'no...</td>\n",
              "    </tr>\n",
              "    <tr>\n",
              "      <th>3</th>\n",
              "      <td>{'I've': 4, 'started': 1, 'doing': 2, 'more': ...</td>\n",
              "      <td>{'One': 1, 'of': 2, 'the': 1, 'last': 1, 'an':...</td>\n",
              "    </tr>\n",
              "    <tr>\n",
              "      <th>4</th>\n",
              "      <td>{'For': 1, 'simple': 1, 'calculations': 2, 'an...</td>\n",
              "      <td>{'Still': 1, 'the': 1, 'best': 1}</td>\n",
              "    </tr>\n",
              "  </tbody>\n",
              "</table>\n",
              "</div>"
            ],
            "text/plain": [
              "                                    reviewText_count                                      summary_count\n",
              "0  {'I': 7, 'bought': 1, 'my': 4, 'first': 1, 'HP...  {'A': 1, 'solid': 1, 'performer,': 1, 'and': 1...\n",
              "1  {'WHY': 1, 'THIS': 2, 'BELATED': 1, 'REVIEW?':...  {'Price': 1, 'of': 1, 'GOLD': 1, 'is': 1, 'up,...\n",
              "2  {'I': 2, 'have': 2, 'an': 2, 'HP': 3, '48GX': ...  {'Good': 1, 'functionality,': 1, 'but': 1, 'no...\n",
              "3  {'I've': 4, 'started': 1, 'doing': 2, 'more': ...  {'One': 1, 'of': 2, 'the': 1, 'last': 1, 'an':...\n",
              "4  {'For': 1, 'simple': 1, 'calculations': 2, 'an...                  {'Still': 1, 'the': 1, 'best': 1}"
            ]
          },
          "metadata": {
            "tags": []
          },
          "execution_count": 9
        }
      ]
    }
  ]
}