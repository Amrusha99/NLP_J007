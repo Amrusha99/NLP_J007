{
  "nbformat": 4,
  "nbformat_minor": 0,
  "metadata": {
    "colab": {
      "name": "vowels_consonants_amazonreview.ipynb",
      "provenance": []
    },
    "kernelspec": {
      "name": "python3",
      "display_name": "Python 3"
    }
  },
  "cells": [
    {
      "cell_type": "code",
      "metadata": {
        "id": "7_6TaCCkiTaY",
        "colab_type": "code",
        "colab": {}
      },
      "source": [
        "import pandas as pd\n",
        "import numpy as np\n",
        "import re\n",
        "df=pd.read_json(\"http://snap.stanford.edu/data/amazon/productGraph/categoryFiles/reviews_Office_Products_5.json.gz\", lines=True)"
      ],
      "execution_count": 0,
      "outputs": []
    },
    {
      "cell_type": "code",
      "metadata": {
        "id": "Pu3kOM6nidnq",
        "colab_type": "code",
        "colab": {}
      },
      "source": [
        "#Function to find vowel, consonant and word count\n",
        "def word_count(str):\n",
        "    count = {}\n",
        "    vowels={'a','e','i','o','u'}\n",
        "    consonants = ['b', 'c', 'd', 'f', 'g', 'h', 'j', 'k', 'l', 'm', 'n', 'p', 'q', 'r', 's', 't', 'v', 'w', 'x', 'y', 'z']\n",
        "    v_count=0\n",
        "    c_count=0\n",
        "    total_count=0\n",
        "\n",
        "    #removing punctuations\n",
        "    words=re.findall(r\"[\\w']+\", str) \n",
        "\n",
        "    for word in words:\n",
        "      for letter in word:\n",
        "        if letter.lower() in vowels:\n",
        "          v_count+=1\n",
        "        elif letter.lower() in consonants:\n",
        "          c_count+=1\n",
        "    total_count=v_count+c_count\n",
        "    count= {'v_count':v_count, 'c_count':c_count, 'total_word_count':len(words), 'total':total_count}\n",
        "    return count"
      ],
      "execution_count": 0,
      "outputs": []
    },
    {
      "cell_type": "code",
      "metadata": {
        "id": "MIH40hyzNf5P",
        "colab_type": "code",
        "colab": {
          "base_uri": "https://localhost:8080/",
          "height": 72
        },
        "outputId": "982c0e09-2c71-44a4-9d91-51f8c205112d"
      },
      "source": [
        "#QC\n",
        "print(df.reviewText[0])\n",
        "word_count(df.reviewText[0])"
      ],
      "execution_count": 23,
      "outputs": [
        {
          "output_type": "stream",
          "text": [
            "I bought my first HP12C in about 1984 or so, and it served me faithfully until 2002 when I lost it while travelling.  I searched for another one to replace it, but found one difficult to come by in my area.  So, I decided to buy up and purchased an HP 49G.  What a mistake!  I know that many people view the HP 49G (now 49G+) as the flagship of the HP line, but for me that was a disaster.The 49G may be powerful, but using it is extremely counterintuitive...and the manual was sketchy at best.  The 12C, on the other hand, does what I need in a way that makes good sense to me.If you are looking for a solid, reliable calculator, the HP12C may be for you.  It's programmable.  It does basic statistics well, and many business applications too.  The manual makes sense; you will be up and running in short order.I'm ready to set my 49G aside and move back to my old friend.  I didn't even have to replace the batteries in well over a decade of use!HP 12C, I'm coming home!\n"
          ],
          "name": "stdout"
        },
        {
          "output_type": "execute_result",
          "data": {
            "text/plain": [
              "{'c_count': 437, 'total': 716, 'total_word_count': 191, 'v_count': 279}"
            ]
          },
          "metadata": {
            "tags": []
          },
          "execution_count": 23
        }
      ]
    },
    {
      "cell_type": "code",
      "metadata": {
        "id": "6Dbirg8KikjB",
        "colab_type": "code",
        "colab": {}
      },
      "source": [
        "df[\"reviewText_vowel_consonant_count\"]=df.reviewText.apply(word_count)"
      ],
      "execution_count": 0,
      "outputs": []
    },
    {
      "cell_type": "code",
      "metadata": {
        "id": "dS7SOTcrir3A",
        "colab_type": "code",
        "colab": {
          "base_uri": "https://localhost:8080/",
          "height": 200
        },
        "outputId": "0efc0b52-64fd-4aa6-e276-ca2dda128f96"
      },
      "source": [
        "vc_dt=pd.concat([df[\"reviewText\"],df[\"reviewText_vowel_consonant_count\"]],axis=1)\n",
        "vc_dt.head()"
      ],
      "execution_count": 25,
      "outputs": [
        {
          "output_type": "execute_result",
          "data": {
            "text/html": [
              "<div>\n",
              "<style scoped>\n",
              "    .dataframe tbody tr th:only-of-type {\n",
              "        vertical-align: middle;\n",
              "    }\n",
              "\n",
              "    .dataframe tbody tr th {\n",
              "        vertical-align: top;\n",
              "    }\n",
              "\n",
              "    .dataframe thead th {\n",
              "        text-align: right;\n",
              "    }\n",
              "</style>\n",
              "<table border=\"1\" class=\"dataframe\">\n",
              "  <thead>\n",
              "    <tr style=\"text-align: right;\">\n",
              "      <th></th>\n",
              "      <th>reviewText</th>\n",
              "      <th>reviewText_vowel_consonant_count</th>\n",
              "    </tr>\n",
              "  </thead>\n",
              "  <tbody>\n",
              "    <tr>\n",
              "      <th>0</th>\n",
              "      <td>I bought my first HP12C in about 1984 or so, a...</td>\n",
              "      <td>{'v_count': 279, 'c_count': 437, 'total_word_c...</td>\n",
              "    </tr>\n",
              "    <tr>\n",
              "      <th>1</th>\n",
              "      <td>WHY THIS BELATED REVIEW? I feel very obliged t...</td>\n",
              "      <td>{'v_count': 1504, 'c_count': 2685, 'total_word...</td>\n",
              "    </tr>\n",
              "    <tr>\n",
              "      <th>2</th>\n",
              "      <td>I have an HP 48GX that has been kicking for mo...</td>\n",
              "      <td>{'v_count': 134, 'c_count': 235, 'total_word_c...</td>\n",
              "    </tr>\n",
              "    <tr>\n",
              "      <th>3</th>\n",
              "      <td>I've started doing more finance stuff recently...</td>\n",
              "      <td>{'v_count': 1089, 'c_count': 1775, 'total_word...</td>\n",
              "    </tr>\n",
              "    <tr>\n",
              "      <th>4</th>\n",
              "      <td>For simple calculations and discounted cash fl...</td>\n",
              "      <td>{'v_count': 208, 'c_count': 338, 'total_word_c...</td>\n",
              "    </tr>\n",
              "  </tbody>\n",
              "</table>\n",
              "</div>"
            ],
            "text/plain": [
              "                                          reviewText                   reviewText_vowel_consonant_count\n",
              "0  I bought my first HP12C in about 1984 or so, a...  {'v_count': 279, 'c_count': 437, 'total_word_c...\n",
              "1  WHY THIS BELATED REVIEW? I feel very obliged t...  {'v_count': 1504, 'c_count': 2685, 'total_word...\n",
              "2  I have an HP 48GX that has been kicking for mo...  {'v_count': 134, 'c_count': 235, 'total_word_c...\n",
              "3  I've started doing more finance stuff recently...  {'v_count': 1089, 'c_count': 1775, 'total_word...\n",
              "4  For simple calculations and discounted cash fl...  {'v_count': 208, 'c_count': 338, 'total_word_c..."
            ]
          },
          "metadata": {
            "tags": []
          },
          "execution_count": 25
        }
      ]
    },
    {
      "cell_type": "code",
      "metadata": {
        "id": "6kFcqAwSvsaX",
        "colab_type": "code",
        "colab": {}
      },
      "source": [
        "#Beginning with b/B and ending with g/G\n",
        "def beg_end(str):\n",
        "  txt = re.sub(r'[^\\w\\s]','',str) \n",
        "  a = re.findall(r\"\\b[Bb]\\w+\\b\", txt)\n",
        "  b = re.findall(r'\\b(\\w+[gG])\\b',txt)\n",
        "  return(a,b)"
      ],
      "execution_count": 0,
      "outputs": []
    },
    {
      "cell_type": "code",
      "metadata": {
        "id": "gvHNPng84X3K",
        "colab_type": "code",
        "colab": {}
      },
      "source": [
        "df[\"begend_words\"]=df.reviewText.apply(beg_end)\n",
        "vc_dt=pd.concat([df[\"reviewText\"],df[\"begend_words\"]], axis=1)"
      ],
      "execution_count": 0,
      "outputs": []
    },
    {
      "cell_type": "code",
      "metadata": {
        "id": "yxr8uE2KzQkP",
        "colab_type": "code",
        "colab": {
          "base_uri": "https://localhost:8080/",
          "height": 200
        },
        "outputId": "f2ee0f18-1c03-4b0c-8d4e-9d393868cf55"
      },
      "source": [
        "vc_dt.head()"
      ],
      "execution_count": 33,
      "outputs": [
        {
          "output_type": "execute_result",
          "data": {
            "text/html": [
              "<div>\n",
              "<style scoped>\n",
              "    .dataframe tbody tr th:only-of-type {\n",
              "        vertical-align: middle;\n",
              "    }\n",
              "\n",
              "    .dataframe tbody tr th {\n",
              "        vertical-align: top;\n",
              "    }\n",
              "\n",
              "    .dataframe thead th {\n",
              "        text-align: right;\n",
              "    }\n",
              "</style>\n",
              "<table border=\"1\" class=\"dataframe\">\n",
              "  <thead>\n",
              "    <tr style=\"text-align: right;\">\n",
              "      <th></th>\n",
              "      <th>reviewText</th>\n",
              "      <th>begend_words</th>\n",
              "    </tr>\n",
              "  </thead>\n",
              "  <tbody>\n",
              "    <tr>\n",
              "      <th>0</th>\n",
              "      <td>I bought my first HP12C in about 1984 or so, a...</td>\n",
              "      <td>([bought, but, by, buy, but, be, but, best, be...</td>\n",
              "    </tr>\n",
              "    <tr>\n",
              "      <th>1</th>\n",
              "      <td>WHY THIS BELATED REVIEW? I feel very obliged t...</td>\n",
              "      <td>([BELATED, burying, brandname, best, business,...</td>\n",
              "    </tr>\n",
              "    <tr>\n",
              "      <th>2</th>\n",
              "      <td>I have an HP 48GX that has been kicking for mo...</td>\n",
              "      <td>([been, But], [kicking, giving, working])</td>\n",
              "    </tr>\n",
              "    <tr>\n",
              "      <th>3</th>\n",
              "      <td>I've started doing more finance stuff recently...</td>\n",
              "      <td>([been, because, but, buy, BlackScholls, But, ...</td>\n",
              "    </tr>\n",
              "    <tr>\n",
              "      <th>4</th>\n",
              "      <td>For simple calculations and discounted cash fl...</td>\n",
              "      <td>([best, business, but, be, brackets], [practic...</td>\n",
              "    </tr>\n",
              "  </tbody>\n",
              "</table>\n",
              "</div>"
            ],
            "text/plain": [
              "                                          reviewText                                       begend_words\n",
              "0  I bought my first HP12C in about 1984 or so, a...  ([bought, but, by, buy, but, be, but, best, be...\n",
              "1  WHY THIS BELATED REVIEW? I feel very obliged t...  ([BELATED, burying, brandname, best, business,...\n",
              "2  I have an HP 48GX that has been kicking for mo...          ([been, But], [kicking, giving, working])\n",
              "3  I've started doing more finance stuff recently...  ([been, because, but, buy, BlackScholls, But, ...\n",
              "4  For simple calculations and discounted cash fl...  ([best, business, but, be, brackets], [practic..."
            ]
          },
          "metadata": {
            "tags": []
          },
          "execution_count": 33
        }
      ]
    }
  ]
}