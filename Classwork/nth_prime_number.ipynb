{
  "nbformat": 4,
  "nbformat_minor": 0,
  "metadata": {
    "colab": {
      "name": "nth_prime_number.ipynb",
      "provenance": []
    },
    "kernelspec": {
      "name": "python3",
      "display_name": "Python 3"
    }
  },
  "cells": [
    {
      "cell_type": "code",
      "metadata": {
        "id": "ecDGLCz9fSyc",
        "colab_type": "code",
        "colab": {}
      },
      "source": [
        "def nth_prime(n):\n",
        "  num_list=[]\n",
        "  k=int(2)\n",
        "  while (len(num_list)<n):\n",
        "    count=0\n",
        "    for i in range (1,int(k**(1/2)+1)):\n",
        "      if(k%i==0):\n",
        "        count+=1\n",
        "    if(count==1):\n",
        "      num_list.append(k)\n",
        "    k+=1\n",
        "  print(num_list[-1])"
      ],
      "execution_count": 0,
      "outputs": []
    },
    {
      "cell_type": "code",
      "metadata": {
        "id": "5LBJqls-frD2",
        "colab_type": "code",
        "colab": {
          "base_uri": "https://localhost:8080/",
          "height": 35
        },
        "outputId": "e52148b3-d1e2-48ae-8b2c-69566171e3fb"
      },
      "source": [
        "nth_prime(560)"
      ],
      "execution_count": 5,
      "outputs": [
        {
          "output_type": "stream",
          "text": [
            "4057\n"
          ],
          "name": "stdout"
        }
      ]
    }
  ]
}
