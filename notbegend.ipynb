{
  "nbformat": 4,
  "nbformat_minor": 0,
  "metadata": {
    "colab": {
      "name": "notbegend.ipynb",
      "provenance": [],
      "collapsed_sections": [],
      "include_colab_link": true
    },
    "kernelspec": {
      "name": "python3",
      "display_name": "Python 3"
    }
  },
  "cells": [
    {
      "cell_type": "markdown",
      "metadata": {
        "id": "view-in-github",
        "colab_type": "text"
      },
      "source": [
        "<a href=\"https://colab.research.google.com/github/Amrusha99/NLP_J007/blob/master/notbegend.ipynb\" target=\"_parent\"><img src=\"https://colab.research.google.com/assets/colab-badge.svg\" alt=\"Open In Colab\"/></a>"
      ]
    },
    {
      "cell_type": "code",
      "metadata": {
        "id": "L8OfcT3PhnGQ",
        "colab_type": "code",
        "colab": {}
      },
      "source": [
        "import pandas as pd\n",
        "import numpy as np\n",
        "import re"
      ],
      "execution_count": 0,
      "outputs": []
    },
    {
      "cell_type": "code",
      "metadata": {
        "id": "7_6TaCCkiTaY",
        "colab_type": "code",
        "colab": {}
      },
      "source": [
        "df=pd.read_json(\"http://snap.stanford.edu/data/amazon/productGraph/categoryFiles/reviews_Office_Products_5.json.gz\", lines=True)"
      ],
      "execution_count": 0,
      "outputs": []
    },
    {
      "cell_type": "code",
      "metadata": {
        "id": "_w5HPLfeks6A",
        "colab_type": "code",
        "colab": {}
      },
      "source": [
        "def not_beg_end(str):\n",
        "  txt = re.sub(r'[^\\w\\s]','',str) \n",
        "  a = re.findall(r'\\b[^\\WbB]\\w*[^\\WgG]\\b', txt)\n",
        "  b = re.findall(r'\\b\\w\\b', txt)\n",
        "  return(a,b,set(a+b))"
      ],
      "execution_count": 0,
      "outputs": []
    },
    {
      "cell_type": "code",
      "metadata": {
        "id": "aE5Yajgd32hQ",
        "colab_type": "code",
        "colab": {
          "base_uri": "https://localhost:8080/",
          "height": 1000
        },
        "outputId": "73ef4c67-0941-4a70-e9e1-55eb34517bb5"
      },
      "source": [
        "print(df.reviewText[20])\n",
        "not_beg_end(df.reviewText[20])"
      ],
      "execution_count": 48,
      "outputs": [
        {
          "output_type": "stream",
          "text": [
            "This calculator does the job for what I need. No batteries needed and it is solar powered. Only problem I have is the cover case. It is not slide in / slide out cover cases like most calculators. It is more of a snap it on / snap it off. Other than that it does help protect it from dust and getting the screen scratched.\n"
          ],
          "name": "stdout"
        },
        {
          "output_type": "execute_result",
          "data": {
            "text/plain": [
              "(['This',\n",
              "  'calculator',\n",
              "  'does',\n",
              "  'the',\n",
              "  'job',\n",
              "  'for',\n",
              "  'what',\n",
              "  'need',\n",
              "  'No',\n",
              "  'needed',\n",
              "  'and',\n",
              "  'it',\n",
              "  'is',\n",
              "  'solar',\n",
              "  'powered',\n",
              "  'Only',\n",
              "  'problem',\n",
              "  'have',\n",
              "  'is',\n",
              "  'the',\n",
              "  'cover',\n",
              "  'case',\n",
              "  'It',\n",
              "  'is',\n",
              "  'not',\n",
              "  'slide',\n",
              "  'in',\n",
              "  'slide',\n",
              "  'out',\n",
              "  'cover',\n",
              "  'cases',\n",
              "  'like',\n",
              "  'most',\n",
              "  'calculators',\n",
              "  'It',\n",
              "  'is',\n",
              "  'more',\n",
              "  'of',\n",
              "  'snap',\n",
              "  'it',\n",
              "  'on',\n",
              "  'snap',\n",
              "  'it',\n",
              "  'off',\n",
              "  'Other',\n",
              "  'than',\n",
              "  'that',\n",
              "  'it',\n",
              "  'does',\n",
              "  'help',\n",
              "  'protect',\n",
              "  'it',\n",
              "  'from',\n",
              "  'dust',\n",
              "  'and',\n",
              "  'the',\n",
              "  'screen',\n",
              "  'scratched'],\n",
              " ['I', 'I', 'a'],\n",
              " {'I',\n",
              "  'It',\n",
              "  'No',\n",
              "  'Only',\n",
              "  'Other',\n",
              "  'This',\n",
              "  'a',\n",
              "  'and',\n",
              "  'calculator',\n",
              "  'calculators',\n",
              "  'case',\n",
              "  'cases',\n",
              "  'cover',\n",
              "  'does',\n",
              "  'dust',\n",
              "  'for',\n",
              "  'from',\n",
              "  'have',\n",
              "  'help',\n",
              "  'in',\n",
              "  'is',\n",
              "  'it',\n",
              "  'job',\n",
              "  'like',\n",
              "  'more',\n",
              "  'most',\n",
              "  'need',\n",
              "  'needed',\n",
              "  'not',\n",
              "  'of',\n",
              "  'off',\n",
              "  'on',\n",
              "  'out',\n",
              "  'powered',\n",
              "  'problem',\n",
              "  'protect',\n",
              "  'scratched',\n",
              "  'screen',\n",
              "  'slide',\n",
              "  'snap',\n",
              "  'solar',\n",
              "  'than',\n",
              "  'that',\n",
              "  'the',\n",
              "  'what'})"
            ]
          },
          "metadata": {
            "tags": []
          },
          "execution_count": 48
        }
      ]
    },
    {
      "cell_type": "code",
      "metadata": {
        "id": "eHJxttm3h4vw",
        "colab_type": "code",
        "colab": {}
      },
      "source": [
        "df[\"notbegend_words\"]=df.reviewText.apply(not_beg_end)\n",
        "vc_dt=pd.concat([df[\"reviewText\"],df[\"notbegend_words\"]], axis=1)"
      ],
      "execution_count": 0,
      "outputs": []
    },
    {
      "cell_type": "code",
      "metadata": {
        "id": "x56ZT1KP3yDJ",
        "colab_type": "code",
        "colab": {
          "base_uri": "https://localhost:8080/",
          "height": 200
        },
        "outputId": "b7810ca9-4281-4ed3-916f-596b80486bf0"
      },
      "source": [
        "vc_dt.head()"
      ],
      "execution_count": 51,
      "outputs": [
        {
          "output_type": "execute_result",
          "data": {
            "text/html": [
              "<div>\n",
              "<style scoped>\n",
              "    .dataframe tbody tr th:only-of-type {\n",
              "        vertical-align: middle;\n",
              "    }\n",
              "\n",
              "    .dataframe tbody tr th {\n",
              "        vertical-align: top;\n",
              "    }\n",
              "\n",
              "    .dataframe thead th {\n",
              "        text-align: right;\n",
              "    }\n",
              "</style>\n",
              "<table border=\"1\" class=\"dataframe\">\n",
              "  <thead>\n",
              "    <tr style=\"text-align: right;\">\n",
              "      <th></th>\n",
              "      <th>reviewText</th>\n",
              "      <th>notbegend_words</th>\n",
              "    </tr>\n",
              "  </thead>\n",
              "  <tbody>\n",
              "    <tr>\n",
              "      <th>0</th>\n",
              "      <td>I bought my first HP12C in about 1984 or so, a...</td>\n",
              "      <td>([my, first, HP12C, in, about, 1984, or, so, a...</td>\n",
              "    </tr>\n",
              "    <tr>\n",
              "      <th>1</th>\n",
              "      <td>WHY THIS BELATED REVIEW? I feel very obliged t...</td>\n",
              "      <td>([WHY, THIS, REVIEW, feel, very, obliged, to, ...</td>\n",
              "    </tr>\n",
              "    <tr>\n",
              "      <th>2</th>\n",
              "      <td>I have an HP 48GX that has been kicking for mo...</td>\n",
              "      <td>([have, an, HP, 48GX, that, has, for, more, th...</td>\n",
              "    </tr>\n",
              "    <tr>\n",
              "      <th>3</th>\n",
              "      <td>I've started doing more finance stuff recently...</td>\n",
              "      <td>([Ive, started, more, finance, stuff, recently...</td>\n",
              "    </tr>\n",
              "    <tr>\n",
              "      <th>4</th>\n",
              "      <td>For simple calculations and discounted cash fl...</td>\n",
              "      <td>([For, simple, calculations, and, discounted, ...</td>\n",
              "    </tr>\n",
              "  </tbody>\n",
              "</table>\n",
              "</div>"
            ],
            "text/plain": [
              "                                          reviewText                                    notbegend_words\n",
              "0  I bought my first HP12C in about 1984 or so, a...  ([my, first, HP12C, in, about, 1984, or, so, a...\n",
              "1  WHY THIS BELATED REVIEW? I feel very obliged t...  ([WHY, THIS, REVIEW, feel, very, obliged, to, ...\n",
              "2  I have an HP 48GX that has been kicking for mo...  ([have, an, HP, 48GX, that, has, for, more, th...\n",
              "3  I've started doing more finance stuff recently...  ([Ive, started, more, finance, stuff, recently...\n",
              "4  For simple calculations and discounted cash fl...  ([For, simple, calculations, and, discounted, ..."
            ]
          },
          "metadata": {
            "tags": []
          },
          "execution_count": 51
        }
      ]
    }
  ]
}